{
 "cells": [
  {
   "cell_type": "code",
   "execution_count": null,
   "metadata": {},
   "outputs": [],
   "source": [
    "import pandas as pd\n",
    "import matplotlib.pyplot as plt\n",
    "import seaborn as sns\n",
    "\n",
    "# Load your data\n",
    "data = pd.read_csv('results2005.csv')\n",
    "\n",
    "# Clean your data (if necessary)\n",
    "data = data.dropna()\n",
    "\n",
    "# Visualize the distribution of your data\n",
    "sns.histplot(data['seconds'], kde=True)\n",
    "plt.show()\n",
    "\n",
    "# Calculate descriptive statistics\n",
    "print(data['seconds'].describe())\n",
    "\n",
    "# Perform a statistical test (e.g., Kolmogorov-Smirnov test)\n",
    "from scipy.stats import kstest\n",
    "\n",
    "# Assuming 'seconds' is normally distributed\n",
    "result = kstest(data['seconds'], 'norm')\n",
    "print(result)\n"
   ]
  },
  {
   "cell_type": "code",
   "execution_count": null,
   "metadata": {},
   "outputs": [],
   "source": [
    "import pandas as pd\n",
    "import numpy as np\n",
    "import scipy.stats as stats\n",
    "\n",
    "\n",
    "data_2005 = pd.read_csv(f\"results2005.csv\")\n",
    "data_2010 = pd.read_csv(f\"results2010.csv\")\n",
    "data_2015 = pd.read_csv(f\"results2015.csv\")\n",
    "\n",
    "times_2005 = data_2005[\"seconds\"].dropna().tolist()\n",
    "times_2010 = data_2010[\"seconds\"].dropna().tolist()\n",
    "times_2015 = data_2015[\"seconds\"].dropna().tolist()\n",
    "\n",
    "\n",
    "s5_10, p5_10 = stats.mannwhitneyu(times_2005, times_2010, alternative='two-sided')\n",
    "s5_15, p5_15 = stats.mannwhitneyu(times_2005, times_2015, alternative='two-sided')\n",
    "s10_15, p10_15 = stats.mannwhitneyu(times_2010, times_2015, alternative='two-sided')\n",
    "\n",
    "print(\"2005 vs 2010\")\n",
    "print(\"Statistic: \", s5_10)\n",
    "print(\"P Value: \", p5_10,\"\\n\")\n",
    "\n",
    "print(\"2005 vs 2015\")\n",
    "print(\"Statistic: \", s5_15)\n",
    "print(\"P Value: \", p5_15, \"\\n\")\n",
    "\n",
    "print(\"2010 vs 2015 \")\n",
    "print(\"Statistic: \", s10_15)\n",
    "print(\"P Value: \", p10_15,\"\\n\")"
   ]
  },
  {
   "cell_type": "markdown",
   "metadata": {},
   "source": [
    "Es importante recordar que, aunque el test Mann-Whitney U es sensible a las diferencias en las distribuciones de los dos grupos, no proporciona información sobre la dirección de la diferencia (si los tiempos de 2015 son más rápidos o más lentos que los de 2005 o 2010). Para un análisis más detallado, podrías considerar comparar los tiempos de pista medios o realizar un análisis de bootstrap para estimar el intervalo de confianza de la diferencia entre las medias de los dos grupos"
   ]
  },
  {
   "cell_type": "code",
   "execution_count": null,
   "metadata": {},
   "outputs": [],
   "source": [
    "import scipy.stats as stats\n",
    "import pandas as pd\n",
    "\n",
    "correlation, p_value = stats.spearmanr(data_2005['seconds'], data_2005['pace'])\n",
    "print(\"Spearman's correlation:\", correlation)\n",
    "print(\"P-value:\", p_value)\n"
   ]
  },
  {
   "cell_type": "markdown",
   "metadata": {},
   "source": [
    "Como era de esperarse existe una fuerte realcion entre la variable segundos y pace. "
   ]
  },
  {
   "cell_type": "code",
   "execution_count": 8,
   "metadata": {},
   "outputs": [
    {
     "name": "stdout",
     "output_type": "stream",
     "text": [
      "T-statistic: -7.821031162698099\n",
      "P-value: 2.1539025631090672e-14\n"
     ]
    }
   ],
   "source": [
    "import pandas as pd\n",
    "import scipy.stats as stats\n",
    "\n",
    "# Filtrar corredores menores de 20 años\n",
    "under_20 = data_2005[data_2005['age'] < 20]['seconds']\n",
    "\n",
    "# Filtrar corredores mayores de 60 años\n",
    "over_60 = data_2005[data_2005['age'] > 60]['seconds']\n",
    "\n",
    "# Realizar el t-test independiente\n",
    "t_stat, p_value = stats.ttest_ind(under_20, over_60)\n",
    "\n",
    "print(\"T-statistic:\", t_stat)\n",
    "print(\"P-value:\", p_value)\n"
   ]
  },
  {
   "cell_type": "markdown",
   "metadata": {},
   "source": [
    "Aqui se observa cuan evidente es la diferencia de los tiempos entre las personas jovenes con respecto a las de las personas de la tercera edad. "
   ]
  },
  {
   "cell_type": "code",
   "execution_count": null,
   "metadata": {},
   "outputs": [],
   "source": [
    "\n",
    "import pandas as pd\n",
    "import numpy as np\n",
    "import matplotlib.pyplot as plt\n",
    "from sklearn.decomposition import PCA\n",
    "\n",
    "X = data_2005[['age', 'seconds']]\n",
    "\n",
    "# Realiza el PCA\n",
    "pca = PCA(n_components=2) \n",
    "components = pca.fit_transform(X)\n",
    "\n",
    "# Visualiza los dos primeros componentes principales\n",
    "plt.figure(figsize=(10, 6))\n",
    "plt.scatter(components[:, 0], components[:, 1], c=data_2005['age'], cmap='viridis')\n",
    "plt.xlabel('Primer Componente Principal')\n",
    "plt.ylabel('Segundo Componente Principal')\n",
    "plt.title('Visualización de los dos primeros componentes principales del PCA')\n",
    "plt.show()\n"
   ]
  }
 ],
 "metadata": {
  "kernelspec": {
   "display_name": "Python 3",
   "language": "python",
   "name": "python3"
  },
  "language_info": {
   "codemirror_mode": {
    "name": "ipython",
    "version": 3
   },
   "file_extension": ".py",
   "mimetype": "text/x-python",
   "name": "python",
   "nbconvert_exporter": "python",
   "pygments_lexer": "ipython3",
   "version": "3.10.7"
  }
 },
 "nbformat": 4,
 "nbformat_minor": 2
}
